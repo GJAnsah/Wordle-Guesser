{
 "cells": [
  {
   "cell_type": "code",
   "execution_count": 80,
   "id": "5c056b01",
   "metadata": {},
   "outputs": [],
   "source": [
    "import numpy as np\n",
    "\n",
    "# Produces a list of all uppercase strings from the .txt file.\n",
    "#run once to get initial list of words\n",
    "#after first run, continue running from second cell\n",
    "\n",
    "all_words = [x.upper() for x in np.loadtxt(\"words.txt\", dtype = str)]\n",
    "all_words.sort()"
   ]
  },
  {
   "cell_type": "code",
   "execution_count": 90,
   "id": "947c76d9",
   "metadata": {},
   "outputs": [
    {
     "name": "stdout",
     "output_type": "stream",
     "text": [
      "Type grey letters without spaces \n",
      "Hit enter if none: bd\n"
     ]
    }
   ],
   "source": [
    "# get all wrong letters\n",
    "\n",
    "greys=str.upper(input('Type grey letters without spaces \\nHit enter if none: '))"
   ]
  },
  {
   "cell_type": "code",
   "execution_count": 91,
   "id": "e1e8c350",
   "metadata": {},
   "outputs": [
    {
     "name": "stdout",
     "output_type": "stream",
     "text": [
      "Type yellow letters with corresponding index.\n",
      "Eg.S1D3 implies S is wrong in index 1 and D is wrong in index 3.\n",
      "Hit enter if none: r2\n"
     ]
    }
   ],
   "source": [
    "# get yellow letters\n",
    "\n",
    "yellows = str.upper(input('Type yellow letters with corresponding index.\\nEg.S1D3 implies S is wrong \\\n",
    "in index 1 and D is wrong in index 3.\\nHit enter if none: '))\n",
    "\n",
    "yellow_letters=[]\n",
    "yellow_index=[]\n",
    "for i in range(len(yellows)):\n",
    "    if i%2==0:\n",
    "        yellow_letters.append(yellows[i])\n",
    "    else:\n",
    "        yellow_index.append(int(yellows[i]))"
   ]
  },
  {
   "cell_type": "code",
   "execution_count": 92,
   "id": "cb88e4bb",
   "metadata": {},
   "outputs": [
    {
     "name": "stdout",
     "output_type": "stream",
     "text": [
      "Type green letters with corresponding index.\n",
      "Eg.S1D3 implies S is correct in index 1 and D is correct in index 3.\n",
      "Hit enter if none: a1e3\n"
     ]
    }
   ],
   "source": [
    "#get green letters\n",
    "\n",
    "greens = str.upper(input('Type green letters with corresponding index.\\nEg.S1D3 implies S is correct \\\n",
    "in index 1 and D is correct in index 3.\\nHit enter if none: '))\n",
    "\n",
    "green_letters=[]\n",
    "green_index=[]\n",
    "for i in range(len(greens)):\n",
    "    if i%2==0:\n",
    "        green_letters.append(greens[i])\n",
    "    else:\n",
    "        green_index.append(int(greens[i]))"
   ]
  },
  {
   "cell_type": "code",
   "execution_count": 93,
   "id": "b807d838",
   "metadata": {},
   "outputs": [],
   "source": [
    "#remove all words that have the wrong letters\n",
    "all_words2=[]\n",
    "\n",
    "for word in all_words:\n",
    "    for letter in greys:\n",
    "        if word.__contains__(letter):\n",
    "            all_words2.append(word)\n",
    "            \n",
    "for i in all_words2:\n",
    "    if i in all_words:\n",
    "        all_words.remove(i)"
   ]
  },
  {
   "cell_type": "code",
   "execution_count": 94,
   "id": "d0d0f38a",
   "metadata": {},
   "outputs": [],
   "source": [
    "#remove all words that have do not have the correct letters in correct position\n",
    "for (letter,index) in zip(green_letters,green_index):\n",
    "    new_words_green=[]\n",
    "    for word in all_words:\n",
    "        if letter in word:\n",
    "            if word[index]==letter:\n",
    "                new_words_green.append(word)\n",
    "    all_words=list(dict.fromkeys(new_words_green))"
   ]
  },
  {
   "cell_type": "code",
   "execution_count": 95,
   "id": "f542e8b3",
   "metadata": {},
   "outputs": [],
   "source": [
    "#remove all words that have the correct letters in wrong position\n",
    "\n",
    "for (letter,index) in zip(yellow_letters,yellow_index):\n",
    "    new_words_yellow=[]\n",
    "    for word in all_words:\n",
    "        if letter in word:\n",
    "            if word[index]!= letter:\n",
    "                new_words_yellow.append(word)\n",
    "    all_words=list(dict.fromkeys(new_words_yellow))"
   ]
  },
  {
   "cell_type": "code",
   "execution_count": null,
   "id": "0bc5a455",
   "metadata": {},
   "outputs": [],
   "source": [
    "#show available words to make next guess\n",
    "all_words"
   ]
  }
 ],
 "metadata": {
  "kernelspec": {
   "display_name": "Python 3 (ipykernel)",
   "language": "python",
   "name": "python3"
  },
  "language_info": {
   "codemirror_mode": {
    "name": "ipython",
    "version": 3
   },
   "file_extension": ".py",
   "mimetype": "text/x-python",
   "name": "python",
   "nbconvert_exporter": "python",
   "pygments_lexer": "ipython3",
   "version": "3.8.8"
  }
 },
 "nbformat": 4,
 "nbformat_minor": 5
}
